{
 "cells": [
  {
   "cell_type": "markdown",
   "metadata": {},
   "source": [
    "#### 1. For any dataset, find the most specific hypothesis that fits all the positive examples using the Find-S algorithm."
   ]
  },
  {
   "cell_type": "code",
   "execution_count": 22,
   "metadata": {},
   "outputs": [],
   "source": [
    "import pandas as pd\n",
    "import numpy as np"
   ]
  },
  {
   "cell_type": "code",
   "execution_count": 23,
   "metadata": {},
   "outputs": [
    {
     "name": "stdout",
     "output_type": "stream",
     "text": [
      "     Sky  Temp Humidity    Wind Water Forecast EnjoySport\n",
      "0  Sunny  Warm   Normal  Strong  Warm     Same         No\n",
      "1  Sunny  Warm     High  Strong  Warm     Same        Yes\n",
      "2  Rainy  Cold     High  Strong  Warm   Change         No\n",
      "3  Sunny  Warm     High  Strong  Cool   Change        Yes\n"
     ]
    }
   ],
   "source": [
    "d = pd.read_csv(\"data_table2.csv\") \n",
    "print(d)"
   ]
  },
  {
   "cell_type": "code",
   "execution_count": 24,
   "metadata": {},
   "outputs": [
    {
     "name": "stdout",
     "output_type": "stream",
     "text": [
      " The attributes are:  [['Sunny' 'Warm' 'Normal' 'Strong' 'Warm' 'Same']\n",
      " ['Sunny' 'Warm' 'High' 'Strong' 'Warm' 'Same']\n",
      " ['Rainy' 'Cold' 'High' 'Strong' 'Warm' 'Change']\n",
      " ['Sunny' 'Warm' 'High' 'Strong' 'Cool' 'Change']]\n"
     ]
    }
   ],
   "source": [
    "a = np.array(d)[:,:-1] \n",
    "print(\" The attributes are: \",a)"
   ]
  },
  {
   "cell_type": "code",
   "execution_count": 25,
   "metadata": {},
   "outputs": [
    {
     "name": "stdout",
     "output_type": "stream",
     "text": [
      "The target is:  ['No' 'Yes' 'No' 'Yes']\n"
     ]
    }
   ],
   "source": [
    "t = np.array(d)[:,-1] \n",
    "print(\"The target is: \",t) "
   ]
  },
  {
   "cell_type": "code",
   "execution_count": 26,
   "metadata": {},
   "outputs": [
    {
     "name": "stdout",
     "output_type": "stream",
     "text": [
      " The final hypothesis is: ['Sunny' 'Warm' 'High' 'Strong' '?' '?']\n"
     ]
    }
   ],
   "source": [
    "def fun(c,t):\n",
    "    for i, val in enumerate(t):\n",
    "        if val == \"Yes\": \n",
    "            specific_hypothesis = c[i].copy() \n",
    "            break \n",
    "    for i, val in enumerate(c): \n",
    "        if t[i] == \"Yes\": \n",
    "            for x in range(len(specific_hypothesis)): \n",
    "                    if val[x] != specific_hypothesis[x]: \n",
    "                         specific_hypothesis[x] = '?'\n",
    "                    else: \n",
    "                        pass  \n",
    "    return specific_hypothesis\n",
    "print(\" The final hypothesis is:\",fun(a,t))"
   ]
  },
  {
   "cell_type": "code",
   "execution_count": null,
   "metadata": {},
   "outputs": [],
   "source": []
  }
 ],
 "metadata": {
  "kernelspec": {
   "display_name": "Python 3.9.0 64-bit",
   "language": "python",
   "name": "python3"
  },
  "language_info": {
   "codemirror_mode": {
    "name": "ipython",
    "version": 3
   },
   "file_extension": ".py",
   "mimetype": "text/x-python",
   "name": "python",
   "nbconvert_exporter": "python",
   "pygments_lexer": "ipython3",
   "version": "3.9.0"
  },
  "orig_nbformat": 4,
  "vscode": {
   "interpreter": {
    "hash": "beaffcd69350167707082d796d83130d58bab3408b4f65f2e212ecd34479db88"
   }
  }
 },
 "nbformat": 4,
 "nbformat_minor": 2
}
